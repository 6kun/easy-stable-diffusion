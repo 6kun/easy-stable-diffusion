{
 "cells": [
  {
   "cell_type": "code",
   "execution_count": null,
   "metadata": {},
   "outputs": [],
   "source": [
    "from modules.alert import alert\n",
    "from modules.log import Log\n",
    "\n",
    "alert('Hello, World!')"
   ]
  }
 ],
 "metadata": {
  "kernelspec": {
   "display_name": "venv",
   "language": "python",
   "name": "python3"
  },
  "language_info": {
   "name": "python",
   "version": "3.8.16 (default, Jan 27 2023, 17:37:27) \n[GCC 12.2.1 20230111]"
  },
  "orig_nbformat": 4,
  "vscode": {
   "interpreter": {
    "hash": "1f617df7fc6c3e416580da7d48dd6f36642d0ad2eb23ad11968156c5a4da2fe1"
   }
  }
 },
 "nbformat": 4,
 "nbformat_minor": 2
}
