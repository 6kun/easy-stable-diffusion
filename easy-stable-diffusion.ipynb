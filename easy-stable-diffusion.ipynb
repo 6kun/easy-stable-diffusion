{
 "cells": [
  {
   "cell_type": "code",
   "execution_count": 2,
   "metadata": {},
   "outputs": [
    {
     "data": {
      "application/vnd.jupyter.widget-view+json": {
       "model_id": "fe7e2afb2ed544a493a5f56686d768c6",
       "version_major": 2,
       "version_minor": 0
      },
      "text/plain": [
       "HTML(value='<script>alert(\"Hello, World!\")</script>')"
      ]
     },
     "metadata": {},
     "output_type": "display_data"
    }
   ],
   "source": [
    "from os import environ\n",
    "\n",
    "# 최신 모듈 디렉터리 가져오기\n",
    "if 'SKIP_INSTALL_MODULES' not in environ:\n",
    "  import subprocess\n",
    "  subprocess.call(\n",
    "    '''\n",
    "    rm -rf modules ;\\\\\n",
    "    git clone https://github.com/toriato/easy-stable-diffusion.git \\\\\n",
    "        && (cd easy-stable-diffusion && git checkout dev ) \\\\\n",
    "        && mv easy-stable-diffusion/modules modules ;\\\\\n",
    "    rm -rf easy-stable-diffusion\n",
    "    ''',\n",
    "    shell=True,\n",
    "    stdout=subprocess.DEVNULL\n",
    "  )\n",
    "\n",
    "from modules.alert import alert\n",
    "from modules.log import Log\n",
    "\n",
    "\n",
    "alert('Hello, World!')"
   ]
  }
 ],
 "metadata": {
  "kernelspec": {
   "display_name": "venv",
   "language": "python",
   "name": "python3"
  },
  "language_info": {
   "codemirror_mode": {
    "name": "ipython",
    "version": 3
   },
   "file_extension": ".py",
   "mimetype": "text/x-python",
   "name": "python",
   "nbconvert_exporter": "python",
   "pygments_lexer": "ipython3",
   "version": "3.8.16"
  },
  "orig_nbformat": 4,
  "vscode": {
   "interpreter": {
    "hash": "1f617df7fc6c3e416580da7d48dd6f36642d0ad2eb23ad11968156c5a4da2fe1"
   }
  }
 },
 "nbformat": 4,
 "nbformat_minor": 2
}
