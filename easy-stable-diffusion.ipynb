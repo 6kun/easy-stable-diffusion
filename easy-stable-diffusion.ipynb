{
    "cells": [
        {
            "cell_type": "code",
            "execution_count": 9,
            "metadata": {
                "cellView": "form"
            },
            "outputs": [
                {
                    "data": {
                        "application/vnd.jupyter.widget-view+json": {
                            "model_id": "6d56dc3f785b41a18bac9e524585a7b1",
                            "version_major": 2,
                            "version_minor": 0
                        },
                        "text/plain": [
                            "GridBox(children=(VBox(), HTML(value='')), layout=Layout(grid_gap='.5em', grid_template_columns='2fr 1fr', pad…"
                        ]
                    },
                    "metadata": {},
                    "output_type": "display_data"
                }
            ],
            "source": [
                "#@title\n",
                "\n",
                "from os import environ\n",
                "\n",
                "# 최신 모듈 디렉터리 가져오기\n",
                "if 'SKIP_INSTALL_MODULES' not in environ:\n",
                "  import subprocess\n",
                "  subprocess.call(\n",
                "    '''\n",
                "    rm -rf modules ;\\\\\n",
                "    git clone https://github.com/toriato/easy-stable-diffusion.git \\\\\n",
                "        && (cd easy-stable-diffusion && git checkout dev ) \\\\\n",
                "        && mv easy-stable-diffusion/modules modules ;\\\\\n",
                "    rm -rf easy-stable-diffusion\n",
                "    ''',\n",
                "    shell=True,\n",
                "    stdout=subprocess.DEVNULL\n",
                "  )\n",
                "\n",
                "from pathlib import Path\n",
                "from ipywidgets import widgets\n",
                "from IPython.display import display\n",
                "\n",
                "from modules.alert import alert\n",
                "from modules.log import Log\n",
                "from modules.ui import FileSelector, FileSelectorOption, FormSet, Input\n",
                "\n",
                "log = Log(\n",
                "    Path('temp.log'), \n",
                "    widget=widgets.HTML()\n",
                ")\n",
                "controls = widgets.VBox()\n",
                "wrapper = widgets.GridBox(\n",
                "    (controls, log.widget),\n",
                "    layout={\n",
                "        'padding': '.5em',\n",
                "        'grid_template_columns': '2fr 1fr',\n",
                "        'grid_gap': '.5em'\n",
                "    }\n",
                ")\n",
                "\n",
                "display(wrapper)\n",
                "\n",
                "try:\n",
                "    workspace = FileSelector(\n",
                "        options=[\n",
                "            FileSelectorOption('< 동기화 안 함 >', lambda _: None)\n",
                "        ]\n",
                "    )\n",
                "\n",
                "    formsets = [\n",
                "        FormSet(\n",
                "            Input(\n",
                "                'workspace',\n",
                "                workspace.create_ui(),\n",
                "                '''\n",
                "                <h3>구글 드라이브 경로</h3>\n",
                "                모델, 출력 파일 등을 구글 드라이브와 동기화합니다\n",
                "                '''\n",
                "            )\n",
                "        )\n",
                "    ]\n",
                "  \n",
                "\n",
                "    controls.children = (\n",
                "        *[\n",
                "            widgets.GridBox(\n",
                "                ([i.create_ui() for i in formset]),\n",
                "                layout={\n",
                "                    'width': '100%',\n",
                "                    'padding': '.5em',\n",
                "                    'border': '2px solid black',\n",
                "                    'grid_template_columns': 'repeat(auto-fit, minmax(400px, 1fr))',\n",
                "                    'grid_gap': '1em',\n",
                "                    **formset.layout\n",
                "                }\n",
                "            )\n",
                "            for formset in formsets\n",
                "        ],\n",
                "    )\n",
                "\n",
                "except Exception as e:\n",
                "  alert(f'초기화 중 오류가 발생했습니다\\n{e}')\n",
                "  raise\n"
            ]
        }
    ],
    "metadata": {
        "accelerator": "GPU",
        "colab": {
            "private_outputs": true,
            "provenance": []
        },
        "gpuClass": "standard",
        "kernelspec": {
            "display_name": "venv",
            "language": "python",
            "name": "python3"
        },
        "language_info": {
            "codemirror_mode": {
                "name": "ipython",
                "version": 3
            },
            "file_extension": ".py",
            "mimetype": "text/x-python",
            "name": "python",
            "nbconvert_exporter": "python",
            "pygments_lexer": "ipython3",
            "version": "3.8.16"
        },
        "orig_nbformat": 4,
        "vscode": {
            "interpreter": {
                "hash": "1f617df7fc6c3e416580da7d48dd6f36642d0ad2eb23ad11968156c5a4da2fe1"
            }
        }
    },
    "nbformat": 4,
    "nbformat_minor": 2
}
