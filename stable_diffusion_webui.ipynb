{
    "cells": [
        {
            "cell_type": "code",
            "execution_count": 4,
            "metadata": {
                "cellView": "form"
            },
            "outputs": [
                {
                    "data": {
                        "application/vnd.jupyter.widget-view+json": {
                            "model_id": "54597f9d1888423f9bc1b396fa556e5e",
                            "version_major": 2,
                            "version_minor": 0
                        },
                        "text/plain": [
                            "GridBox(children=(VBox(), HTML(value='')), layout=Layout(grid_gap='.5em', grid_template_columns='2fr 1fr', pad…"
                        ]
                    },
                    "metadata": {},
                    "output_type": "display_data"
                }
            ],
            "source": [
                "#@title\n",
                "import os\n",
                "\n",
                "# 최신 모듈 디렉터리 가져오기\n",
                "if 'SKIP_INSTALL_MODULES' not in os.environ:\n",
                "  import subprocess\n",
                "  subprocess.call(\n",
                "    '''\n",
                "    rm -rf modules workflows ;\\\\\n",
                "    git clone https://github.com/toriato/easy-stable-diffusion.git \\\\\n",
                "        && (cd easy-stable-diffusion && git checkout dev ) \\\\\n",
                "        && mv easy-stable-diffusion/modules . \\\\\n",
                "        && mv easy-stable-diffusion/workflows . ;\\\\\n",
                "    rm -rf easy-stable-diffusion\n",
                "    ''',\n",
                "    shell=True,\n",
                "    stdout=subprocess.DEVNULL\n",
                "  )\n",
                "\n",
                "import workflows.stable_diffusion_webui\n"
            ]
        }
    ],
    "metadata": {
        "accelerator": "GPU",
        "colab": {
            "private_outputs": true,
            "provenance": []
        },
        "gpuClass": "standard",
        "kernelspec": {
            "display_name": "venv",
            "language": "python",
            "name": "python3"
        },
        "language_info": {
            "codemirror_mode": {
                "name": "ipython",
                "version": 3
            },
            "file_extension": ".py",
            "mimetype": "text/x-python",
            "name": "python",
            "nbconvert_exporter": "python",
            "pygments_lexer": "ipython3",
            "version": "3.8.16 (default, Jan 27 2023, 17:37:27) \n[GCC 12.2.1 20230111]"
        },
        "orig_nbformat": 4,
        "vscode": {
            "interpreter": {
                "hash": "1f617df7fc6c3e416580da7d48dd6f36642d0ad2eb23ad11968156c5a4da2fe1"
            }
        }
    },
    "nbformat": 4,
    "nbformat_minor": 2
}
